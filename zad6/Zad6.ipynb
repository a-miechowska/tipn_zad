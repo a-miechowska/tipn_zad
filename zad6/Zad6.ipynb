{
 "cells": [
  {
   "cell_type": "markdown",
   "metadata": {},
   "source": [
    "# Test osobowości\n"
   ]
  },
  {
   "cell_type": "code",
   "execution_count": 1,
   "metadata": {},
   "outputs": [],
   "source": [
    "pytania = [\"Pytanie : Czy oglądanie kotów w internecie sprawia Ci ogromną radość?\" , \"Pytanie: Czy kiedy nie widzisz swojego telefonu w zasięgu wzroku czujesz się nieswojo?\" , \"Pytanie: Czy zawsze jestem dostępny online?\" , \"Pytanie: Czy wyobrażam swobie dzień bez wejścia na facebooka/twittera/snapchata/instagrama?\" , \"Pytanie: Czy kiedy jesteś uczestnikiem jakiegoś wydarzenia kulturalnego oglądasz je przez ekran telefonu?\"]\n",
    "def pytanie(x) :\n",
    "    twój_wynik = []\n",
    "    for pytanie in pytania :\n",
    "        print(pytanie)\n",
    "        print(\"1 to zdecydowanie nie zgadzam się.\" , \"2 to raczej się nie zgadzam.\" , \"3 to nie mam zdania.\", \"4 to raczej się zgadzam.\" , \"5 to zdecydowanie się zgadzam.\")\n",
    "        wynik = str(input(\"Podaj liczbę w skali od 1 do 5\"))\n",
    "        twój_wynik.append(int(wynik))\n",
    "    sum(twój_wynik)\n",
    "    if sum(twój_wynik) < 5:\n",
    "        print(\"Gratulacje! Jesteś komputerowym pustelnikiem! Najwidoczniej w ogóle nie interesuje Cię co się dzieje w sieci. Z pewnością nie wiesz też czym jest instagram, a dla większości ludzi nie istniejesz. Wolisz kontakt twarzą w twarz z ludźmi. Rada: Może warto otworzyć się na nowe technologie?\")\n",
    "    elif sum(twój_wynik) >= 5 and sum(twój_wynik) < 20:\n",
    "        print(\"Gratulacje! Jesteś przeciętnym użytownikiem internetu! Przy wigilijnym stole, czy na randce potrafisz oderwać się od zerkania na telefon. Starsz się orzystać ze wszystkich dóbr internetu z głową. Rada: Należy uważać, aby zachować umiar! \")\n",
    "    elif sum(twój_wynik) >= 20:\n",
    "        print(\"Gratulacje! jesteś uzależniony od internetu! Każda chwila spędzona bez telefonu w ręku powoduje u Ciebie atak paniki. Wyjście pod prysznic czy do toalety jest już niemożliwe bez telefonu. Rada: W celu uzyskania pomocy zadzwoń pod numer: 801 889 880\")\n",
    "        "
   ]
  },
  {
   "cell_type": "code",
   "execution_count": 2,
   "metadata": {},
   "outputs": [
    {
     "name": "stdout",
     "output_type": "stream",
     "text": [
      "Pytanie : Czy oglądanie kotów w internecie sprawia Ci ogromną radość?\n",
      "1 to zdecydowanie nie zgadzam się. 2 to raczej się nie zgadzam. 3 to nie mam zdania. 4 to raczej się zgadzam. 5 to zdecydowanie się zgadzam.\n"
     ]
    },
    {
     "name": "stdin",
     "output_type": "stream",
     "text": [
      "Podaj liczbę w skali od 1 do 5 5\n"
     ]
    },
    {
     "name": "stdout",
     "output_type": "stream",
     "text": [
      "Pytanie: Czy kiedy nie widzisz swojego telefonu w zasięgu wzroku czujesz się nieswojo?\n",
      "1 to zdecydowanie nie zgadzam się. 2 to raczej się nie zgadzam. 3 to nie mam zdania. 4 to raczej się zgadzam. 5 to zdecydowanie się zgadzam.\n"
     ]
    },
    {
     "name": "stdin",
     "output_type": "stream",
     "text": [
      "Podaj liczbę w skali od 1 do 5 5\n"
     ]
    },
    {
     "name": "stdout",
     "output_type": "stream",
     "text": [
      "Pytanie: Czy zawsze jestem dostępny online?\n",
      "1 to zdecydowanie nie zgadzam się. 2 to raczej się nie zgadzam. 3 to nie mam zdania. 4 to raczej się zgadzam. 5 to zdecydowanie się zgadzam.\n"
     ]
    },
    {
     "name": "stdin",
     "output_type": "stream",
     "text": [
      "Podaj liczbę w skali od 1 do 5 5\n"
     ]
    },
    {
     "name": "stdout",
     "output_type": "stream",
     "text": [
      "Pytanie: Czy wyobrażam swobie dzień bez wejścia na facebooka/twittera/snapchata/instagrama?\n",
      "1 to zdecydowanie nie zgadzam się. 2 to raczej się nie zgadzam. 3 to nie mam zdania. 4 to raczej się zgadzam. 5 to zdecydowanie się zgadzam.\n"
     ]
    },
    {
     "name": "stdin",
     "output_type": "stream",
     "text": [
      "Podaj liczbę w skali od 1 do 5 5\n"
     ]
    },
    {
     "name": "stdout",
     "output_type": "stream",
     "text": [
      "Pytanie: Czy kiedy jesteś uczestnikiem jakiegoś wydarzenia kulturalnego oglądasz je przez ekran telefonu?\n",
      "1 to zdecydowanie nie zgadzam się. 2 to raczej się nie zgadzam. 3 to nie mam zdania. 4 to raczej się zgadzam. 5 to zdecydowanie się zgadzam.\n"
     ]
    },
    {
     "name": "stdin",
     "output_type": "stream",
     "text": [
      "Podaj liczbę w skali od 1 do 5 5\n"
     ]
    },
    {
     "name": "stdout",
     "output_type": "stream",
     "text": [
      "Gratulacje! jesteś uzależniony od internetu! Każda chwila spędzona bez telefonu w ręku powoduje u Ciebie atak paniki. Wyjście pod prysznic czy do toalety jest już niemożliwe bez telefonu. Rada: W celu uzyskania pomocy zadzwoń pod numer: 801 889 880\n"
     ]
    }
   ],
   "source": [
    "pytanie(1)"
   ]
  },
  {
   "cell_type": "code",
   "execution_count": null,
   "metadata": {},
   "outputs": [],
   "source": []
  }
 ],
 "metadata": {
  "kernelspec": {
   "display_name": "Python 3",
   "language": "python",
   "name": "python3"
  },
  "language_info": {
   "codemirror_mode": {
    "name": "ipython",
    "version": 3
   },
   "file_extension": ".py",
   "mimetype": "text/x-python",
   "name": "python",
   "nbconvert_exporter": "python",
   "pygments_lexer": "ipython3",
   "version": "3.7.0"
  }
 },
 "nbformat": 4,
 "nbformat_minor": 2
}
